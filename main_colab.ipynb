{
 "cells": [
  {
   "cell_type": "code",
   "execution_count": null,
   "id": "b12bb358",
   "metadata": {},
   "outputs": [],
   "source": [
    "!apt update\n",
    "!apt install ffmpeg"
   ]
  },
  {
   "cell_type": "code",
   "execution_count": null,
   "id": "a00ede19",
   "metadata": {},
   "outputs": [],
   "source": [
    "# Clone this repository\n",
    "!git clone https://github.com/gokhaneraslan/tts-dataset-generator.git\n",
    "%cd tts-dataset-generator"
   ]
  },
  {
   "cell_type": "code",
   "execution_count": null,
   "id": "2e688919",
   "metadata": {},
   "outputs": [],
   "source": [
    "# Install dependencies\n",
    "!pip install -r requirements.txt"
   ]
  },
  {
   "cell_type": "code",
   "execution_count": null,
   "id": "2ed25cbc",
   "metadata": {},
   "outputs": [],
   "source": [
    "!python main.py --file /content/your_audio_or_video_file.mp4 --model large --language tr"
   ]
  }
 ],
 "metadata": {
  "language_info": {
   "name": "python"
  }
 },
 "nbformat": 4,
 "nbformat_minor": 5
}
