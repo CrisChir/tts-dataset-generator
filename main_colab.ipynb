{
 "cells": [
  {
   "cell_type": "code",
   "execution_count": null,
   "id": "b12bb358",
   "metadata": {},
   "outputs": [],
   "source": [
    "!apt update\n",
    "!apt install ffmpeg"
   ]
  },
  {
   "cell_type": "code",
   "execution_count": null,
   "id": "a00ede19",
   "metadata": {},
   "outputs": [],
   "source": [
    "# Clone this repository\n",
    "!git clone https://github.com/gokhaneraslan/tts-dataset-generator.git"
   ]
  },
  {
   "cell_type": "code",
   "execution_count": null,
   "id": "30c6daff",
   "metadata": {},
   "outputs": [],
   "source": [
    "%cd tts-dataset-generator"
   ]
  },
  {
   "cell_type": "code",
   "execution_count": null,
   "id": "2e688919",
   "metadata": {},
   "outputs": [],
   "source": [
    "# Install dependencies\n",
    "pip install -r requirements.txt"
   ]
  },
  {
   "cell_type": "code",
   "execution_count": null,
   "id": "1fcde6b8",
   "metadata": {},
   "outputs": [],
   "source": [
    "%cd tts-dataset-generator"
   ]
  },
  {
   "cell_type": "code",
   "execution_count": null,
   "id": "2ed25cbc",
   "metadata": {},
   "outputs": [],
   "source": [
    "!python main.py --file /content/your_audio_or_video_file.mp4 --model large --language tr --sample_rate your_audio_or_video_file_sample_rate"
   ]
  },
  {
   "cell_type": "code",
   "execution_count": null,
   "id": "809f3648",
   "metadata": {},
   "outputs": [],
   "source": [
    "# For ljspeech format\n",
    "!python main.py --file /content/your_audio_or_video_file.mp4 --model large --language tr --ljspeech True --sample_rate 22050"
   ]
  }
 ],
 "metadata": {
  "language_info": {
   "name": "python"
  }
 },
 "nbformat": 4,
 "nbformat_minor": 5
}
